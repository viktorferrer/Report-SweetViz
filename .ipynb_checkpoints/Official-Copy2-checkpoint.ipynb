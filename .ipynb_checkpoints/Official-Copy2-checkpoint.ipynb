{
 "cells": [
  {
   "cell_type": "code",
   "execution_count": 1,
   "id": "087deeee",
   "metadata": {},
   "outputs": [],
   "source": [
    "#importing necessaries libs to explore tha data and build the ML model\n",
    "\n",
    "#pandas \n",
    "import pandas as pd\n",
    "import seaborn as sns\n",
    "import numpy as np\n",
    "from matplotlib import pyplot as plt\n",
    "from sklearn.model_selection import train_test_split\n",
    "from sklearn.metrics import accuracy_score\n",
    "from sklearn import ensemble, svm\n",
    "\n",
    "%matplotlib inline"
   ]
  },
  {
   "cell_type": "code",
   "execution_count": 2,
   "id": "59eda462",
   "metadata": {},
   "outputs": [
    {
     "name": "stdout",
     "output_type": "stream",
     "text": [
      "<class 'pandas.core.frame.DataFrame'>\n",
      "RangeIndex: 891 entries, 0 to 890\n",
      "Data columns (total 12 columns):\n",
      " #   Column       Non-Null Count  Dtype  \n",
      "---  ------       --------------  -----  \n",
      " 0   PassengerId  891 non-null    int64  \n",
      " 1   Survived     891 non-null    int64  \n",
      " 2   Pclass       891 non-null    int64  \n",
      " 3   Name         891 non-null    object \n",
      " 4   Sex          891 non-null    object \n",
      " 5   Age          714 non-null    float64\n",
      " 6   SibSp        891 non-null    int64  \n",
      " 7   Parch        891 non-null    int64  \n",
      " 8   Ticket       891 non-null    object \n",
      " 9   Fare         891 non-null    float64\n",
      " 10  Cabin        204 non-null    object \n",
      " 11  Embarked     889 non-null    object \n",
      "dtypes: float64(2), int64(5), object(5)\n",
      "memory usage: 83.7+ KB\n"
     ]
    },
    {
     "data": {
      "text/plain": [
       "PassengerId      0\n",
       "Survived         0\n",
       "Pclass           0\n",
       "Name             0\n",
       "Sex              0\n",
       "Age            177\n",
       "SibSp            0\n",
       "Parch            0\n",
       "Ticket           0\n",
       "Fare             0\n",
       "Cabin          687\n",
       "Embarked         2\n",
       "dtype: int64"
      ]
     },
     "execution_count": 2,
     "metadata": {},
     "output_type": "execute_result"
    }
   ],
   "source": [
    "train = pd.read_csv('/home/viktor/Documentos/DED/train.csv')\n",
    "test = pd.read_csv('/home/viktor/Documentos/DED/test.csv')\n",
    "train.info()\n",
    "\n",
    "# showing null values\n",
    "train.isnull().sum()"
   ]
  },
  {
   "cell_type": "code",
   "execution_count": 3,
   "id": "4fc6253e",
   "metadata": {},
   "outputs": [],
   "source": [
    "# 1 means that the passenger was alone\n",
    "train['Family_Size']=train['SibSp']+train['Parch']+1\n",
    "test['Family_Size']=test['SibSp']+test['Parch']+1\n",
    "\n",
    "# converting data types to improve data manipulation\n",
    "def convert_s(sex):\n",
    "    if sex == 'female':\n",
    "        return 0\n",
    "    else:\n",
    "        return 1\n",
    "\n",
    "def convert_fam(fam):\n",
    "    if fam == 1:\n",
    "        return 1\n",
    "    else:\n",
    "        return 2\n",
    "    \n",
    "train['Gender'] = train['Sex'].map(convert_s)\n",
    "test['Gender'] = test['Sex'].map(convert_s)\n",
    "\n",
    "train['Family'] = train['Family_Size'].map(convert_fam)\n",
    "test['Family'] = test['Family_Size'].map(convert_fam)\n",
    "\n",
    "train['Age'] = train['Age'].interpolate()\n",
    "test['Age'] = test['Age'].interpolate()\n",
    "\n",
    "#dropping remaining NaN values\n",
    "train = train.fillna(-1)\n",
    "test = test.fillna(-1)"
   ]
  },
  {
   "cell_type": "code",
   "execution_count": 4,
   "id": "ddd5f7e9",
   "metadata": {},
   "outputs": [],
   "source": [
    "#choosing the relevant variables\n",
    "## dataframe class for data manipulation improvment during exploration\n",
    "df = train[['Gender', 'Age', 'Pclass', 'Family', 'Fare']]"
   ]
  },
  {
   "cell_type": "code",
   "execution_count": 5,
   "id": "1639ca03",
   "metadata": {},
   "outputs": [
    {
     "name": "stdout",
     "output_type": "stream",
     "text": [
      "          Gender       Age    Pclass    Family      Fare\n",
      "Gender  1.000000  0.061332  0.131900 -0.303646 -0.182333\n",
      "Age     0.061332  1.000000 -0.304934 -0.169425  0.087119\n",
      "Pclass  0.131900 -0.304934  1.000000 -0.135207 -0.549500\n",
      "Family -0.303646 -0.169425 -0.135207  1.000000  0.271832\n",
      "Fare   -0.182333  0.087119 -0.549500  0.271832  1.000000\n"
     ]
    },
    {
     "data": {
      "text/plain": [
       "<AxesSubplot:>"
      ]
     },
     "execution_count": 5,
     "metadata": {},
     "output_type": "execute_result"
    },
    {
     "data": {
      "image/png": "[encoded data removed]",
      "text/plain": [
       "<Figure size 432x288 with 2 Axes>"
      ]
     },
     "metadata": {
      "needs_background": "light"
     },
     "output_type": "display_data"
    }
   ],
   "source": [
    "# verifying if we've correlated features between themselves\n",
    "print(df.corr())\n",
    "\n",
    "sns.heatmap(df.corr())"
   ]
  },
  {
   "cell_type": "code",
   "execution_count": 6,
   "id": "c82a5675",
   "metadata": {},
   "outputs": [
    {
     "data": {
      "image/png": "[encoded data removed]",
      "text/plain": [
       "<Figure size 432x288 with 1 Axes>"
      ]
     },
     "metadata": {
      "needs_background": "light"
     },
     "output_type": "display_data"
    },
    {
     "data": {
      "image/png": "[encoded data removed]",
      "text/plain": [
       "<Figure size 432x288 with 1 Axes>"
      ]
     },
     "metadata": {
      "needs_background": "light"
     },
     "output_type": "display_data"
    },
    {
     "data": {
      "image/png": "[encoded data removed]",
      "text/plain": [
       "<Figure size 432x288 with 1 Axes>"
      ]
     },
     "metadata": {
      "needs_background": "light"
     },
     "output_type": "display_data"
    },
    {
     "data": {
      "image/png": "[encoded data removed]",
      "text/plain": [
       "<Figure size 432x288 with 1 Axes>"
      ]
     },
     "metadata": {
      "needs_background": "light"
     },
     "output_type": "display_data"
    },
    {
     "data": {
      "image/png": "[encoded data removed]",
      "text/plain": [
       "<Figure size 432x288 with 1 Axes>"
      ]
     },
     "metadata": {
      "needs_background": "light"
     },
     "output_type": "display_data"
    }
   ],
   "source": [
    "# analyzing its distribution\n",
    "for i in df.columns:\n",
    "    plt.hist(df[i])\n",
    "    plt.title(i)\n",
    "    plt.show()\n",
    "\n",
    "var=['Gender', 'Age', 'Pclass', 'Family', 'Fare']"
   ]
  },
  {
   "cell_type": "code",
   "execution_count": 7,
   "id": "db09b77f",
   "metadata": {},
   "outputs": [],
   "source": [
    "x = train[var]\n",
    "y = train['Survived']"
   ]
  },
  {
   "cell_type": "code",
   "execution_count": 8,
   "id": "278e0678",
   "metadata": {},
   "outputs": [],
   "source": [
    "x_train, x_test, y_train, y_test = train_test_split(x, y, test_size=0.3, random_state=5)"
   ]
  },
  {
   "cell_type": "markdown",
   "id": "71c4ecc5",
   "metadata": {},
   "source": [
    "## The first model chosen was the Random Forest Classifier method.\n",
    "\n",
    "    The accuracy was higher (around 8.0) but lower comparing to others on Kaggle, that's why I rather to use the SVC model. Altough it's not as performatic as Forest Classifier it showed a better result regarding the accuracy.\n",
    "    \n",
    "    SVC works by applying a vector in the middle of the separated data, since we've a disperse distribution between the features, this method works around the edge of each class of data."
   ]
  },
  {
   "cell_type": "code",
   "execution_count": 9,
   "id": "af552403",
   "metadata": {},
   "outputs": [
    {
     "data": {
      "text/plain": [
       "array([0, 0, 0, 0, 0, 0, 1, 0, 1, 0, 0, 0, 0, 1, 0, 1, 0, 1, 0, 0, 0, 1,\n",
       "       1, 1, 0, 0, 0, 0, 0, 0, 0, 0, 1, 0, 1, 0, 0, 0, 0, 0, 0, 1, 0, 0,\n",
       "       0, 0, 1, 1, 0, 0, 1, 1, 1, 0, 0, 0, 0, 0, 0, 1, 0, 1, 0, 0, 1, 0,\n",
       "       0, 0, 0, 0, 1, 0, 1, 0, 1, 0, 0, 1, 1, 1, 0, 0, 0, 0, 1, 1, 1, 1,\n",
       "       0, 0, 0, 0, 1, 0, 1, 0, 1, 0, 0, 0, 0, 1, 0, 0, 1, 1, 0, 0, 0, 1,\n",
       "       0, 0, 1, 0, 1, 1, 1, 0, 1, 1, 1, 0, 0, 1, 0, 1, 0, 0, 1, 0, 0, 0,\n",
       "       0, 0, 1, 0, 0, 0, 0, 0, 0, 0, 0, 1, 0, 1, 0, 1, 0, 0, 1, 0, 0, 0,\n",
       "       0, 1, 0, 0, 0, 0, 0, 0, 0, 0, 1, 1, 1, 0, 0, 0, 1, 0, 1, 1, 0, 0,\n",
       "       0, 1, 0, 1, 1, 1, 0, 0, 1, 0, 1, 0, 0, 0, 0, 0, 0, 0, 0, 0, 0, 1,\n",
       "       0, 0, 1, 0, 0, 0, 0, 1, 0, 0, 1, 0, 0, 0, 1, 0, 0, 0, 1, 0, 0, 0,\n",
       "       0, 0, 1, 0, 1, 1, 0, 1, 0, 0, 1, 0, 0, 0, 0, 0, 0, 1, 0, 0, 0, 1,\n",
       "       0, 1, 0, 0, 0, 1, 0, 0, 0, 0, 0, 0, 0, 0, 0, 1, 1, 0, 0, 1, 0, 0,\n",
       "       0, 1, 0, 1])"
      ]
     },
     "execution_count": 9,
     "metadata": {},
     "output_type": "execute_result"
    }
   ],
   "source": [
    "#model = ensemble.RandomForestClassifier(random_state=0, n_estimators=100, n_jobs=1\n",
    "\n",
    "## function to apply the model\n",
    "model = svm.SVC(probability=True, kernel='linear')\n",
    "\n",
    "## training model\n",
    "model.fit(x_train, y_train)\n",
    "\n",
    "## predicting\n",
    "model.predict(x_test)"
   ]
  },
  {
   "cell_type": "code",
   "execution_count": 10,
   "id": "d870718b",
   "metadata": {},
   "outputs": [
    {
     "data": {
      "text/plain": [
       "0.7947761194029851"
      ]
     },
     "execution_count": 10,
     "metadata": {},
     "output_type": "execute_result"
    }
   ],
   "source": [
    "# model.fit(x_train, y_train)\n",
    "# y_pred = model.predict(x_test)\n",
    "# y_pred\n",
    "# round(accuracy_score(y_test, y_pred)*100,1)\n",
    "\n",
    "#scoring the accuracy\n",
    "model.score(x_test, y_test)"
   ]
  },
  {
   "cell_type": "code",
   "execution_count": 11,
   "id": "6b843015",
   "metadata": {},
   "outputs": [],
   "source": [
    "# aplying prediction to our test\n",
    "pred = model.predict(test[var])"
   ]
  },
  {
   "cell_type": "code",
   "execution_count": 12,
   "id": "c4cbe446",
   "metadata": {},
   "outputs": [
    {
     "data": {
      "text/plain": [
       "(418,)"
      ]
     },
     "execution_count": 12,
     "metadata": {},
     "output_type": "execute_result"
    }
   ],
   "source": [
    "# creating pandas series with our result\n",
    "submission = pd.Series(pred, index=test['PassengerId'], name ='Survived')\n",
    "# verifying amount before submit\n",
    "submission.shape"
   ]
  },
  {
   "cell_type": "code",
   "execution_count": 13,
   "id": "c824a62e",
   "metadata": {},
   "outputs": [],
   "source": [
    "# saving on CSV\n",
    "submission.to_csv('/home/viktor/Documentos/DED/predict_titanic_2.csv', header=True)"
   ]
  },
  {
   "cell_type": "code",
   "execution_count": 14,
   "id": "e415507c",
   "metadata": {},
   "outputs": [],
   "source": [
    "\n",
    "\n",
    "# wide_df = pd.DataFrame(data, index, [\"a\", \"b\", \"c\", \"d\"]) \n",
    "# sns.relplot( data=tips, x=\"total_bill\", y=\"tip\", col=\"time\", hue=\"day\", style=\"day\", kind=\"scatter\" )\n",
    "\n",
    "# sns.scatterplot(data=df, x=\"PassengerId\", y=\"tip\", hue=\"time\")"
   ]
  },
  {
   "cell_type": "code",
   "execution_count": null,
   "id": "51b245a6",
   "metadata": {},
   "outputs": [],
   "source": []
  }
 ],
 "metadata": {
  "kernelspec": {
   "display_name": "Python 3",
   "language": "python",
   "name": "python3"
  },
  "language_info": {
   "codemirror_mode": {
    "name": "ipython",
    "version": 3
   },
   "file_extension": ".py",
   "mimetype": "text/x-python",
   "name": "python",
   "nbconvert_exporter": "python",
   "pygments_lexer": "ipython3",
   "version": "3.6.9"
  }
 },
 "nbformat": 4,
 "nbformat_minor": 5
}
