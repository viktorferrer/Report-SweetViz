{
 "cells": [
  {
   "cell_type": "code",
   "execution_count": 2,
   "id": "b0b36e1a",
   "metadata": {},
   "outputs": [],
   "source": [
    "# import necessary libs\n",
    "\n",
    "import numpy as np\n",
    "import pandas as pd\n",
    "\n",
    "import datetime\n",
    "import sweetviz as sv\n",
    "import sys\n",
    "from matplotlib import pyplot as plt"
   ]
  },
  {
   "cell_type": "code",
   "execution_count": 3,
   "id": "1c7abd37",
   "metadata": {},
   "outputs": [],
   "source": [
    "#read dataset\n",
    "emp = pd.read_csv('/home/viktor/Documentos/DED/vendedor.csv', engine='python', sep=',')\n",
    "sales_tran = pd.read_csv('/home/viktor/Documentos/DED/vendas_tran.csv', engine='python', sep=';')"
   ]
  },
  {
   "cell_type": "code",
   "execution_count": 4,
   "id": "d13109b1",
   "metadata": {},
   "outputs": [
    {
     "data": {
      "text/html": [
       "<div>\n",
       "<style scoped>\n",
       "    .dataframe tbody tr th:only-of-type {\n",
       "        vertical-align: middle;\n",
       "    }\n",
       "\n",
       "    .dataframe tbody tr th {\n",
       "        vertical-align: top;\n",
       "    }\n",
       "\n",
       "    .dataframe thead th {\n",
       "        text-align: right;\n",
       "    }\n",
       "</style>\n",
       "<table border=\"1\" class=\"dataframe\">\n",
       "  <thead>\n",
       "    <tr style=\"text-align: right;\">\n",
       "      <th></th>\n",
       "      <th>SalesPersonId</th>\n",
       "      <th>SalesPersonName</th>\n",
       "      <th>SalesPersonLastName</th>\n",
       "      <th>Region</th>\n",
       "    </tr>\n",
       "  </thead>\n",
       "  <tbody>\n",
       "    <tr>\n",
       "      <th>0</th>\n",
       "      <td>3029</td>\n",
       "      <td>Anna</td>\n",
       "      <td>Andreadi</td>\n",
       "      <td>West</td>\n",
       "    </tr>\n",
       "    <tr>\n",
       "      <th>1</th>\n",
       "      <td>3030</td>\n",
       "      <td>Chuck</td>\n",
       "      <td>Magee</td>\n",
       "      <td>East</td>\n",
       "    </tr>\n",
       "    <tr>\n",
       "      <th>2</th>\n",
       "      <td>3031</td>\n",
       "      <td>Kelly</td>\n",
       "      <td>Williams</td>\n",
       "      <td>Central</td>\n",
       "    </tr>\n",
       "    <tr>\n",
       "      <th>3</th>\n",
       "      <td>3032</td>\n",
       "      <td>Cassandra</td>\n",
       "      <td>Brandow</td>\n",
       "      <td>South</td>\n",
       "    </tr>\n",
       "  </tbody>\n",
       "</table>\n",
       "</div>"
      ],
      "text/plain": [
       "   SalesPersonId SalesPersonName SalesPersonLastName   Region\n",
       "0           3029            Anna            Andreadi     West\n",
       "1           3030           Chuck               Magee     East\n",
       "2           3031           Kelly            Williams  Central\n",
       "3           3032       Cassandra             Brandow    South"
      ]
     },
     "execution_count": 4,
     "metadata": {},
     "output_type": "execute_result"
    }
   ],
   "source": [
    "emp.head()"
   ]
  },
  {
   "cell_type": "code",
   "execution_count": 5,
   "id": "d10ee189",
   "metadata": {},
   "outputs": [
    {
     "data": {
      "text/html": [
       "<div>\n",
       "<style scoped>\n",
       "    .dataframe tbody tr th:only-of-type {\n",
       "        vertical-align: middle;\n",
       "    }\n",
       "\n",
       "    .dataframe tbody tr th {\n",
       "        vertical-align: top;\n",
       "    }\n",
       "\n",
       "    .dataframe thead th {\n",
       "        text-align: right;\n",
       "    }\n",
       "</style>\n",
       "<table border=\"1\" class=\"dataframe\">\n",
       "  <thead>\n",
       "    <tr style=\"text-align: right;\">\n",
       "      <th></th>\n",
       "      <th>RowID</th>\n",
       "      <th>OrderID</th>\n",
       "      <th>OrderDate</th>\n",
       "      <th>ShipDate</th>\n",
       "      <th>ShipMode</th>\n",
       "      <th>CustomerID</th>\n",
       "      <th>CustomerName</th>\n",
       "      <th>Segment</th>\n",
       "      <th>Country</th>\n",
       "      <th>City</th>\n",
       "      <th>...</th>\n",
       "      <th>PostalCode</th>\n",
       "      <th>ProductID</th>\n",
       "      <th>Category</th>\n",
       "      <th>SubCategory</th>\n",
       "      <th>ProductName</th>\n",
       "      <th>Sales</th>\n",
       "      <th>Quantity</th>\n",
       "      <th>Discount</th>\n",
       "      <th>Profit</th>\n",
       "      <th>SalesPersonId</th>\n",
       "    </tr>\n",
       "  </thead>\n",
       "  <tbody>\n",
       "    <tr>\n",
       "      <th>0</th>\n",
       "      <td>9261</td>\n",
       "      <td>CA-2017-167976</td>\n",
       "      <td>11/11/2017</td>\n",
       "      <td>11/14/2017</td>\n",
       "      <td>Second Class</td>\n",
       "      <td>JL-15505</td>\n",
       "      <td>Jeremy/Lonsdale</td>\n",
       "      <td>Consumer</td>\n",
       "      <td>United States</td>\n",
       "      <td>Aberdeen</td>\n",
       "      <td>...</td>\n",
       "      <td>57401 Central</td>\n",
       "      <td>OFF-SU-10004661</td>\n",
       "      <td>Office Supplies</td>\n",
       "      <td>Supplies</td>\n",
       "      <td>Acme Titanium Bonded Scissors</td>\n",
       "      <td>25,5</td>\n",
       "      <td>3</td>\n",
       "      <td>0</td>\n",
       "      <td>6,63</td>\n",
       "      <td>3029</td>\n",
       "    </tr>\n",
       "    <tr>\n",
       "      <th>1</th>\n",
       "      <td>6990</td>\n",
       "      <td>CA-2017-165099</td>\n",
       "      <td>12/11/2017</td>\n",
       "      <td>12/13/2017</td>\n",
       "      <td>First Class</td>\n",
       "      <td>DK-13375</td>\n",
       "      <td>Dennis/Kane</td>\n",
       "      <td>Consumer</td>\n",
       "      <td>United States</td>\n",
       "      <td>Abilene</td>\n",
       "      <td>...</td>\n",
       "      <td>79605 Central</td>\n",
       "      <td>OFF-AP-10001634</td>\n",
       "      <td>Office Supplies</td>\n",
       "      <td>Appliances</td>\n",
       "      <td>Hoover Commercial Lightweight Upright Vacuum</td>\n",
       "      <td>1,39</td>\n",
       "      <td>2</td>\n",
       "      <td>0,8</td>\n",
       "      <td>-3,76</td>\n",
       "      <td>3032</td>\n",
       "    </tr>\n",
       "    <tr>\n",
       "      <th>2</th>\n",
       "      <td>201</td>\n",
       "      <td>CA-2017-105074</td>\n",
       "      <td>6/24/2017</td>\n",
       "      <td>6/29/2017</td>\n",
       "      <td>Standard Class</td>\n",
       "      <td>MB-17305</td>\n",
       "      <td>Maria/Bertelson</td>\n",
       "      <td>Consumer</td>\n",
       "      <td>United States</td>\n",
       "      <td>Akron</td>\n",
       "      <td>...</td>\n",
       "      <td>44312 East</td>\n",
       "      <td>OFF-PA-10002666</td>\n",
       "      <td>Office Supplies</td>\n",
       "      <td>Paper</td>\n",
       "      <td>Southworth 25% Cotton Linen-Finish Paper &amp; Env...</td>\n",
       "      <td>21,74</td>\n",
       "      <td>3</td>\n",
       "      <td>0,2</td>\n",
       "      <td>6,8</td>\n",
       "      <td>3029</td>\n",
       "    </tr>\n",
       "    <tr>\n",
       "      <th>3</th>\n",
       "      <td>3201</td>\n",
       "      <td>CA-2014-164224</td>\n",
       "      <td>5/18/2014</td>\n",
       "      <td>5/20/2014</td>\n",
       "      <td>Second Class</td>\n",
       "      <td>TT-21070</td>\n",
       "      <td>Ted/Trevino</td>\n",
       "      <td>Consumer</td>\n",
       "      <td>United States</td>\n",
       "      <td>Akron</td>\n",
       "      <td>...</td>\n",
       "      <td>44312 East</td>\n",
       "      <td>FUR-FU-10000308</td>\n",
       "      <td>Furniture</td>\n",
       "      <td>Furnishings</td>\n",
       "      <td>Deflect-o Glass Clear Studded Chair Mats</td>\n",
       "      <td>149,23</td>\n",
       "      <td>3</td>\n",
       "      <td>0,2</td>\n",
       "      <td>3,73</td>\n",
       "      <td>3031</td>\n",
       "    </tr>\n",
       "    <tr>\n",
       "      <th>4</th>\n",
       "      <td>3202</td>\n",
       "      <td>CA-2014-164224</td>\n",
       "      <td>5/18/2014</td>\n",
       "      <td>5/20/2014</td>\n",
       "      <td>Second Class</td>\n",
       "      <td>TT-21070</td>\n",
       "      <td>Ted/Trevino</td>\n",
       "      <td>Consumer</td>\n",
       "      <td>United States</td>\n",
       "      <td>Akron</td>\n",
       "      <td>...</td>\n",
       "      <td>44312 East</td>\n",
       "      <td>OFF-PA-10001526</td>\n",
       "      <td>Office Supplies</td>\n",
       "      <td>Paper</td>\n",
       "      <td>Xerox 1949</td>\n",
       "      <td>15,94</td>\n",
       "      <td>4</td>\n",
       "      <td>0,2</td>\n",
       "      <td>5,78</td>\n",
       "      <td>3031</td>\n",
       "    </tr>\n",
       "  </tbody>\n",
       "</table>\n",
       "<p>5 rows × 21 columns</p>\n",
       "</div>"
      ],
      "text/plain": [
       "   RowID         OrderID   OrderDate    ShipDate        ShipMode CustomerID  \\\n",
       "0   9261  CA-2017-167976  11/11/2017  11/14/2017    Second Class   JL-15505   \n",
       "1   6990  CA-2017-165099  12/11/2017  12/13/2017     First Class   DK-13375   \n",
       "2    201  CA-2017-105074   6/24/2017   6/29/2017  Standard Class   MB-17305   \n",
       "3   3201  CA-2014-164224   5/18/2014   5/20/2014    Second Class   TT-21070   \n",
       "4   3202  CA-2014-164224   5/18/2014   5/20/2014    Second Class   TT-21070   \n",
       "\n",
       "      CustomerName   Segment        Country      City  ...     PostalCode  \\\n",
       "0  Jeremy/Lonsdale  Consumer  United States  Aberdeen  ...  57401 Central   \n",
       "1      Dennis/Kane  Consumer  United States   Abilene  ...  79605 Central   \n",
       "2  Maria/Bertelson  Consumer  United States     Akron  ...     44312 East   \n",
       "3      Ted/Trevino  Consumer  United States     Akron  ...     44312 East   \n",
       "4      Ted/Trevino  Consumer  United States     Akron  ...     44312 East   \n",
       "\n",
       "         ProductID         Category  SubCategory  \\\n",
       "0  OFF-SU-10004661  Office Supplies     Supplies   \n",
       "1  OFF-AP-10001634  Office Supplies   Appliances   \n",
       "2  OFF-PA-10002666  Office Supplies        Paper   \n",
       "3  FUR-FU-10000308        Furniture  Furnishings   \n",
       "4  OFF-PA-10001526  Office Supplies        Paper   \n",
       "\n",
       "                                         ProductName   Sales Quantity  \\\n",
       "0                      Acme Titanium Bonded Scissors    25,5        3   \n",
       "1       Hoover Commercial Lightweight Upright Vacuum    1,39        2   \n",
       "2  Southworth 25% Cotton Linen-Finish Paper & Env...   21,74        3   \n",
       "3           Deflect-o Glass Clear Studded Chair Mats  149,23        3   \n",
       "4                                         Xerox 1949   15,94        4   \n",
       "\n",
       "   Discount Profit SalesPersonId  \n",
       "0         0   6,63          3029  \n",
       "1       0,8  -3,76          3032  \n",
       "2       0,2    6,8          3029  \n",
       "3       0,2   3,73          3031  \n",
       "4       0,2   5,78          3031  \n",
       "\n",
       "[5 rows x 21 columns]"
      ]
     },
     "execution_count": 5,
     "metadata": {},
     "output_type": "execute_result"
    }
   ],
   "source": [
    "sales_tran.head()"
   ]
  },
  {
   "cell_type": "code",
   "execution_count": 6,
   "id": "bcb98a7a",
   "metadata": {},
   "outputs": [],
   "source": [
    "# join between the two datasets\n",
    "sales_emp = pd.merge(emp, sales_tran, how = 'right', on='SalesPersonId')"
   ]
  },
  {
   "cell_type": "code",
   "execution_count": 7,
   "id": "140de400",
   "metadata": {},
   "outputs": [
    {
     "name": "stdout",
     "output_type": "stream",
     "text": [
      "<class 'pandas.core.frame.DataFrame'>\n",
      "RangeIndex: 9994 entries, 0 to 9993\n",
      "Data columns (total 21 columns):\n",
      " #   Column         Non-Null Count  Dtype \n",
      "---  ------         --------------  ----- \n",
      " 0   RowID          9994 non-null   int64 \n",
      " 1   OrderID        9994 non-null   object\n",
      " 2   OrderDate      9994 non-null   object\n",
      " 3   ShipDate       9994 non-null   object\n",
      " 4   ShipMode       9994 non-null   object\n",
      " 5   CustomerID     9994 non-null   object\n",
      " 6   CustomerName   9994 non-null   object\n",
      " 7   Segment        9994 non-null   object\n",
      " 8   Country        9994 non-null   object\n",
      " 9   City           9994 non-null   object\n",
      " 10  State          9994 non-null   object\n",
      " 11  PostalCode     9994 non-null   object\n",
      " 12  ProductID      9994 non-null   object\n",
      " 13  Category       9994 non-null   object\n",
      " 14  SubCategory    9994 non-null   object\n",
      " 15  ProductName    9994 non-null   object\n",
      " 16  Sales          9994 non-null   object\n",
      " 17  Quantity       9994 non-null   int64 \n",
      " 18  Discount       9994 non-null   object\n",
      " 19  Profit         9994 non-null   object\n",
      " 20  SalesPersonId  9994 non-null   int64 \n",
      "dtypes: int64(3), object(18)\n",
      "memory usage: 1.6+ MB\n"
     ]
    }
   ],
   "source": [
    "# check data type\n",
    "sales_tran.info()\n",
    "plt.show()"
   ]
  },
  {
   "cell_type": "code",
   "execution_count": 8,
   "id": "8c0a6cdb",
   "metadata": {},
   "outputs": [],
   "source": [
    "## converting functions\n",
    "\n",
    "# replacing , for . to avoiding convertion errors\n",
    "sales_emp['Sales'] = sales_emp['Sales'].str.replace(',', '.')\n",
    "sales_emp['Discount'] = sales_emp['Discount'].str.replace(',', '.')\n",
    "sales_emp['Profit'] = sales_emp['Profit'].str.replace(',', '.')\n",
    "\n",
    "# converting to numeric values\n",
    "sales_emp[['Sales', 'Discount', 'Profit']] = sales_emp[['Sales', 'Discount', 'Profit']].astype(float)\n",
    "sales_emp['Quantity'] = sales_emp['Quantity'].astype(int)\n",
    "sales_emp['ProductID'] = sales_emp['ProductID'].astype(int)\n",
    "sales_emp['CustomerID'] = sales_emp['CustomerID'].astype(int)\n",
    "sales_emp['SalesPersonId'] = sales_emp['SalesPersonId'].astype(int)\n",
    "\n",
    "\n",
    "\n",
    "\n",
    "# converting do date as a appropriate format\n",
    "sales_emp['OrderDate'] = pd.to_datetime(sales_emp['OrderDate'].str.strip(), format='%m/%d/%Y')\n",
    "sales_emp['ShipDate'] = pd.to_datetime(sales_emp['ShipDate'].str.strip(), format='%m/%d/%Y')"
   ]
  },
  {
   "cell_type": "code",
   "execution_count": 9,
   "id": "afb45b4d",
   "metadata": {},
   "outputs": [
    {
     "name": "stdout",
     "output_type": "stream",
     "text": [
      "<class 'pandas.core.frame.DataFrame'>\n",
      "Int64Index: 9994 entries, 0 to 9993\n",
      "Data columns (total 24 columns):\n",
      " #   Column               Non-Null Count  Dtype         \n",
      "---  ------               --------------  -----         \n",
      " 0   SalesPersonId        9994 non-null   int64         \n",
      " 1   SalesPersonName      9994 non-null   object        \n",
      " 2   SalesPersonLastName  9994 non-null   object        \n",
      " 3   Region               9994 non-null   object        \n",
      " 4   RowID                9994 non-null   int64         \n",
      " 5   OrderID              9994 non-null   object        \n",
      " 6   OrderDate            9994 non-null   datetime64[ns]\n",
      " 7   ShipDate             9994 non-null   datetime64[ns]\n",
      " 8   ShipMode             9994 non-null   object        \n",
      " 9   CustomerID           9994 non-null   object        \n",
      " 10  CustomerName         9994 non-null   object        \n",
      " 11  Segment              9994 non-null   object        \n",
      " 12  Country              9994 non-null   object        \n",
      " 13  City                 9994 non-null   object        \n",
      " 14  State                9994 non-null   object        \n",
      " 15  PostalCode           9994 non-null   object        \n",
      " 16  ProductID            9994 non-null   object        \n",
      " 17  Category             9994 non-null   object        \n",
      " 18  SubCategory          9994 non-null   object        \n",
      " 19  ProductName          9994 non-null   object        \n",
      " 20  Sales                9994 non-null   float64       \n",
      " 21  Quantity             9994 non-null   int64         \n",
      " 22  Discount             9994 non-null   float64       \n",
      " 23  Profit               9994 non-null   float64       \n",
      "dtypes: datetime64[ns](2), float64(3), int64(3), object(16)\n",
      "memory usage: 1.9+ MB\n"
     ]
    }
   ],
   "source": [
    "# check if the columns were converted\n",
    "sales_emp.info()"
   ]
  },
  {
   "cell_type": "code",
   "execution_count": 9,
   "id": "bf10dbea",
   "metadata": {},
   "outputs": [
    {
     "data": {
      "application/vnd.jupyter.widget-view+json": {
       "model_id": "f10797e3ae6745efb9aa2a7a51527c38",
       "version_major": 2,
       "version_minor": 0
      },
      "text/plain": [
       "                                             |          | [  0%]   00:00 -> (? left)"
      ]
     },
     "metadata": {},
     "output_type": "display_data"
    },
    {
     "name": "stdout",
     "output_type": "stream",
     "text": [
      "Report Report_Sales.html was generated! NOTEBOOK/COLAB USERS: the web browser MAY not pop up, regardless, the report IS saved in your notebook/colab files.\n"
     ]
    }
   ],
   "source": [
    "#create first report\n",
    "report = sv.analyze(sales_emp)\n",
    "report.show_html('Report_Sales.html')"
   ]
  },
  {
   "cell_type": "markdown",
   "id": "829b7953-74d3-446e-808e-8d815b70f038",
   "metadata": {},
   "source": [
    "## Since we've values lesser than 0 on Profit column, we can create a new column only for negative values called Prejudice.\n"
   ]
  },
  {
   "cell_type": "code",
   "execution_count": 25,
   "id": "1c59554a-877a-4789-9ec9-6c2e339a328c",
   "metadata": {},
   "outputs": [
    {
     "name": "stderr",
     "output_type": "stream",
     "text": [
      "/home/viktor/.local/lib/python3.6/site-packages/ipykernel_launcher.py:2: DeprecationWarning: The default dtype for empty Series will be 'object' instead of 'float64' in a future version. Specify a dtype explicitly to silence this warning.\n",
      "  \n"
     ]
    }
   ],
   "source": [
    "# create a new empty column\n",
    "sales_emp['Prejudice'] = pd.Series() \n",
    "\n",
    "# conditional to separate the values between two columns\n",
    "sales_emp['Prejudice'] = (sales_emp['Profit'] < 0)\n",
    "sales_emp['Profit'] = sales_emp['Profit'] > 0\n"
   ]
  },
  {
   "cell_type": "code",
   "execution_count": 11,
   "id": "b7d6dfcd",
   "metadata": {},
   "outputs": [
    {
     "data": {
      "text/plain": [
       "SalesPersonId          0\n",
       "SalesPersonName        0\n",
       "SalesPersonLastName    0\n",
       "Region                 0\n",
       "RowID                  0\n",
       "OrderID                0\n",
       "OrderDate              0\n",
       "ShipDate               0\n",
       "ShipMode               0\n",
       "CustomerID             0\n",
       "CustomerName           0\n",
       "Segment                0\n",
       "Country                0\n",
       "City                   0\n",
       "State                  0\n",
       "PostalCode             0\n",
       "ProductID              0\n",
       "Category               0\n",
       "SubCategory            0\n",
       "ProductName            0\n",
       "Sales                  0\n",
       "Quantity               0\n",
       "Discount               0\n",
       "Profit                 0\n",
       "Prejudice              0\n",
       "dtype: int64"
      ]
     },
     "execution_count": 11,
     "metadata": {},
     "output_type": "execute_result"
    }
   ],
   "source": [
    "# check if the new Column has been created and populated as expected\n",
    "sales_emp.isnull().sum()"
   ]
  },
  {
   "cell_type": "code",
   "execution_count": 12,
   "id": "dda5997c-7bf7-4cd7-880a-87a5d7e9efba",
   "metadata": {},
   "outputs": [
    {
     "data": {
      "application/vnd.jupyter.widget-view+json": {
       "model_id": "d32612dc751e43b2be457538638aed9b",
       "version_major": 2,
       "version_minor": 0
      },
      "text/plain": [
       "                                             |          | [  0%]   00:00 -> (? left)"
      ]
     },
     "metadata": {},
     "output_type": "display_data"
    }
   ],
   "source": [
    "# create report based on Sales feature\n",
    "report = sv.analyze(sales_emp, target_feat='Sales')"
   ]
  },
  {
   "cell_type": "code",
   "execution_count": 17,
   "id": "d3344b9c",
   "metadata": {},
   "outputs": [
    {
     "name": "stdout",
     "output_type": "stream",
     "text": [
      "Report Insights.html was generated! NOTEBOOK/COLAB USERS: the web browser MAY not pop up, regardless, the report IS saved in your notebook/colab files.\n"
     ]
    }
   ],
   "source": [
    "# show html report\n",
    "report.show_html('Insights.html', layout ='widescreen')"
   ]
  }
 ],
 "metadata": {
  "kernelspec": {
   "display_name": "Python 3",
   "language": "python",
   "name": "python3"
  },
  "language_info": {
   "codemirror_mode": {
    "name": "ipython",
    "version": 3
   },
   "file_extension": ".py",
   "mimetype": "text/x-python",
   "name": "python",
   "nbconvert_exporter": "python",
   "pygments_lexer": "ipython3",
   "version": "3.6.9"
  }
 },
 "nbformat": 4,
 "nbformat_minor": 5
}
